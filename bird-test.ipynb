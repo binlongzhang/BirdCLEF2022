{
 "cells": [
  {
   "cell_type": "code",
   "execution_count": 1,
   "id": "9e59a62d",
   "metadata": {
    "execution": {
     "iopub.execute_input": "2022-04-24T12:48:20.382778Z",
     "iopub.status.busy": "2022-04-24T12:48:20.382048Z",
     "iopub.status.idle": "2022-04-24T12:48:20.392779Z",
     "shell.execute_reply": "2022-04-24T12:48:20.392202Z"
    },
    "papermill": {
     "duration": 0.033004,
     "end_time": "2022-04-24T12:48:20.395059",
     "exception": false,
     "start_time": "2022-04-24T12:48:20.362055",
     "status": "completed"
    },
    "tags": []
   },
   "outputs": [],
   "source": [
    "import sys\n",
    "sys.path.append('../input/bird-tools')"
   ]
  },
  {
   "cell_type": "code",
   "execution_count": 2,
   "id": "0820e6bf",
   "metadata": {
    "execution": {
     "iopub.execute_input": "2022-04-24T12:48:20.429926Z",
     "iopub.status.busy": "2022-04-24T12:48:20.429405Z",
     "iopub.status.idle": "2022-04-24T12:48:23.139857Z",
     "shell.execute_reply": "2022-04-24T12:48:23.138632Z"
    },
    "papermill": {
     "duration": 2.730639,
     "end_time": "2022-04-24T12:48:23.142532",
     "exception": false,
     "start_time": "2022-04-24T12:48:20.411893",
     "status": "completed"
    },
    "tags": []
   },
   "outputs": [],
   "source": [
    "import noisereduce as nr"
   ]
  },
  {
   "cell_type": "code",
   "execution_count": 3,
   "id": "f9738a3e",
   "metadata": {
    "execution": {
     "iopub.execute_input": "2022-04-24T12:48:23.177844Z",
     "iopub.status.busy": "2022-04-24T12:48:23.177019Z",
     "iopub.status.idle": "2022-04-24T12:48:23.182427Z",
     "shell.execute_reply": "2022-04-24T12:48:23.181807Z"
    },
    "papermill": {
     "duration": 0.024637,
     "end_time": "2022-04-24T12:48:23.183933",
     "exception": false,
     "start_time": "2022-04-24T12:48:23.159296",
     "status": "completed"
    },
    "tags": []
   },
   "outputs": [],
   "source": [
    "PATH_DATA = \"../input/birdclef-2022\"\n",
    "class config:\n",
    "    seed=2022\n",
    "    num_fold = 5\n",
    "    sample_rate= 32_000\n",
    "    sampleNum = 32_000*5\n",
    "    n_fft=1024\n",
    "    win_length = 1024\n",
    "    hop_length=512\n",
    "    n_mels=64\n",
    "    duration=5\n",
    "    num_classes = 152\n",
    "    train_batch_size = 16\n",
    "    valid_batch_size = 16\n",
    "    epochs = 50\n",
    "    learning_rate = 1e-3"
   ]
  },
  {
   "cell_type": "markdown",
   "id": "38a77e5d",
   "metadata": {
    "papermill": {
     "duration": 0.015768,
     "end_time": "2022-04-24T12:48:23.215931",
     "exception": false,
     "start_time": "2022-04-24T12:48:23.200163",
     "status": "completed"
    },
    "tags": []
   },
   "source": [
    "# Load Model"
   ]
  },
  {
   "cell_type": "code",
   "execution_count": 4,
   "id": "36887f2c",
   "metadata": {
    "execution": {
     "iopub.execute_input": "2022-04-24T12:48:23.250073Z",
     "iopub.status.busy": "2022-04-24T12:48:23.249522Z",
     "iopub.status.idle": "2022-04-24T12:48:24.687184Z",
     "shell.execute_reply": "2022-04-24T12:48:24.686084Z"
    },
    "papermill": {
     "duration": 1.457806,
     "end_time": "2022-04-24T12:48:24.689902",
     "exception": false,
     "start_time": "2022-04-24T12:48:23.232096",
     "status": "completed"
    },
    "tags": []
   },
   "outputs": [],
   "source": [
    "import torch\n",
    "import torch.nn as nn\n",
    "import torch.nn.functional as F\n",
    "\n",
    "# CNN\n",
    "# class BirdClefModel(nn.Module):\n",
    "#     def __init__(self):\n",
    "#         super(BirdClefModel, self).__init__()\n",
    "#         self.conv1 = nn.Conv2d(in_channels=1, out_channels=8, kernel_size=3, stride=1, padding=1)\n",
    "#         self.conv2 = nn.Conv2d(in_channels=8, out_channels=16, kernel_size=3, stride=1, padding=1)\n",
    "#         self.conv3 = nn.Conv2d(in_channels=16, out_channels=32, kernel_size=3, stride=1, padding=1)\n",
    "#         self.conv4 = nn.Conv2d(in_channels=32, out_channels=64, kernel_size=3, stride=1, padding=1)\n",
    "\n",
    "#         self.pool = nn.MaxPool2d(kernel_size=2, stride=2)\n",
    "#         self.fc1 = nn.Linear(64*32*19, 1024*10)\n",
    "#         self.fc2 = nn.Linear(1024*10, 1024)\n",
    "#         self.fc3 = nn.Linear(1024, config.num_classes)\n",
    "#         self.softmax = nn.Softmax(dim=1)\n",
    "#         self.dropout = nn.Dropout()\n",
    "\n",
    "#     def forward(self, x):\n",
    "#         x = F.relu(self.conv1(x))\n",
    "#         # 513*313\n",
    "#         x = self.pool(x)\n",
    "#         x = F.relu(self.conv2(x))\n",
    "#         # 256*156\n",
    "#         x = self.pool(x)\n",
    "#         x = F.relu(self.conv3(x))\n",
    "#         # 128*78\n",
    "#         x = self.pool(x)\n",
    "#         # 64*39\n",
    "#         x = F.relu(self.conv4(x))\n",
    "#         x = self.pool(x)\n",
    "#         # 32*19\n",
    "        \n",
    "#         x = x.view(x.size(0), -1)\n",
    "# #         x = self.dropout(x)\n",
    "#         x = F.relu(self.fc1(x))\n",
    "# #         x = self.dropout(x)\n",
    "#         x = F.relu(self.fc2(x))\n",
    "# #         x = self.dropout(x)\n",
    "#         x = self.fc3(x)\n",
    "# #         x = self.softmax(x)\n",
    "#         return x\n",
    "\n",
    "class BirdClefModel(nn.Module):\n",
    "    def __init__(self):\n",
    "        super(BirdClefModel, self).__init__()\n",
    "        self.conv1 = nn.Conv2d(in_channels=1, out_channels=8, kernel_size=3, stride=1, padding=1)\n",
    "        self.conv2 = nn.Conv2d(in_channels=8, out_channels=16, kernel_size=3, stride=1, padding=1)\n",
    "        self.conv3 = nn.Conv2d(in_channels=16, out_channels=32, kernel_size=3, stride=1, padding=1)\n",
    "        self.conv4 = nn.Conv2d(in_channels=32, out_channels=64, kernel_size=3, stride=1, padding=1)\n",
    "        self.conv5 = nn.Conv2d(in_channels=64, out_channels=128, kernel_size=3, stride=1, padding=1)\n",
    "\n",
    "        self.pool = nn.MaxPool2d(kernel_size=2, stride=2)\n",
    "        self.fc1 = nn.Linear(128*16*9, 1024*4)\n",
    "#         self.fc2 = nn.Linear(1024*8, 1024)\n",
    "        self.fc3 = nn.Linear(1024*4, config.num_classes)\n",
    "        self.dropout = nn.Dropout(0.3)\n",
    "\n",
    "    def forward(self, x):\n",
    "        x = F.relu(self.conv1(x))\n",
    "        # 513*313\n",
    "        x = self.pool(x)\n",
    "        # 256*156        \n",
    "        x = F.relu(self.conv2(x))\n",
    "        x = self.pool(x)\n",
    "        # 128*78\n",
    "        x = F.relu(self.conv3(x))\n",
    "        x = self.pool(x)\n",
    "        # 64*39\n",
    "        x = F.relu(self.conv4(x))\n",
    "        x = self.pool(x)\n",
    "        # 32*19\n",
    "        x = F.relu(self.conv5(x))\n",
    "        x = self.pool(x)\n",
    "        # 16*9\n",
    "        \n",
    "        x = x.view(x.size(0), -1)\n",
    "        x = self.dropout(x)\n",
    "        x = F.relu(self.fc1(x))\n",
    "        x = self.dropout(x)\n",
    "#         x = F.relu(self.fc2(x))\n",
    "#         x = self.dropout(x)\n",
    "        x = self.fc3(x)\n",
    "    \n",
    "        return x"
   ]
  },
  {
   "cell_type": "code",
   "execution_count": 5,
   "id": "54aa0a28",
   "metadata": {
    "execution": {
     "iopub.execute_input": "2022-04-24T12:48:24.725888Z",
     "iopub.status.busy": "2022-04-24T12:48:24.725584Z",
     "iopub.status.idle": "2022-04-24T12:48:28.667720Z",
     "shell.execute_reply": "2022-04-24T12:48:28.666803Z"
    },
    "papermill": {
     "duration": 3.962773,
     "end_time": "2022-04-24T12:48:28.670362",
     "exception": false,
     "start_time": "2022-04-24T12:48:24.707589",
     "status": "completed"
    },
    "tags": []
   },
   "outputs": [
    {
     "name": "stdout",
     "output_type": "stream",
     "text": [
      "BirdClefModel(\n",
      "  (conv1): Conv2d(1, 8, kernel_size=(3, 3), stride=(1, 1), padding=(1, 1))\n",
      "  (conv2): Conv2d(8, 16, kernel_size=(3, 3), stride=(1, 1), padding=(1, 1))\n",
      "  (conv3): Conv2d(16, 32, kernel_size=(3, 3), stride=(1, 1), padding=(1, 1))\n",
      "  (conv4): Conv2d(32, 64, kernel_size=(3, 3), stride=(1, 1), padding=(1, 1))\n",
      "  (conv5): Conv2d(64, 128, kernel_size=(3, 3), stride=(1, 1), padding=(1, 1))\n",
      "  (pool): MaxPool2d(kernel_size=2, stride=2, padding=0, dilation=1, ceil_mode=False)\n",
      "  (fc1): Linear(in_features=18432, out_features=4096, bias=True)\n",
      "  (fc3): Linear(in_features=4096, out_features=152, bias=True)\n",
      "  (dropout): Dropout(p=0.3, inplace=False)\n",
      ")\n"
     ]
    }
   ],
   "source": [
    "import os\n",
    "\n",
    "PATH_Model = \"../input/model-02f1\"\n",
    "\n",
    "model_path = os.path.join(PATH_Model, \"model.pt\")\n",
    "model = BirdClefModel()\n",
    "model.load_state_dict(torch.load(model_path,map_location='cpu'))\n",
    "model.eval()\n",
    "print(model)"
   ]
  },
  {
   "cell_type": "markdown",
   "id": "3af5b442",
   "metadata": {
    "papermill": {
     "duration": 0.016488,
     "end_time": "2022-04-24T12:48:28.705737",
     "exception": false,
     "start_time": "2022-04-24T12:48:28.689249",
     "status": "completed"
    },
    "tags": []
   },
   "source": [
    "# Deal Audio Data"
   ]
  },
  {
   "cell_type": "code",
   "execution_count": 6,
   "id": "f0fdf63b",
   "metadata": {
    "execution": {
     "iopub.execute_input": "2022-04-24T12:48:28.741158Z",
     "iopub.status.busy": "2022-04-24T12:48:28.740277Z",
     "iopub.status.idle": "2022-04-24T12:48:28.748004Z",
     "shell.execute_reply": "2022-04-24T12:48:28.747129Z"
    },
    "papermill": {
     "duration": 0.027604,
     "end_time": "2022-04-24T12:48:28.750064",
     "exception": false,
     "start_time": "2022-04-24T12:48:28.722460",
     "status": "completed"
    },
    "tags": []
   },
   "outputs": [
    {
     "data": {
      "text/plain": [
       "3"
      ]
     },
     "execution_count": 6,
     "metadata": {},
     "output_type": "execute_result"
    }
   ],
   "source": [
    "7//2"
   ]
  },
  {
   "cell_type": "code",
   "execution_count": 7,
   "id": "2381f80a",
   "metadata": {
    "execution": {
     "iopub.execute_input": "2022-04-24T12:48:28.788582Z",
     "iopub.status.busy": "2022-04-24T12:48:28.788289Z",
     "iopub.status.idle": "2022-04-24T12:48:28.908689Z",
     "shell.execute_reply": "2022-04-24T12:48:28.907733Z"
    },
    "papermill": {
     "duration": 0.141554,
     "end_time": "2022-04-24T12:48:28.911107",
     "exception": false,
     "start_time": "2022-04-24T12:48:28.769553",
     "status": "completed"
    },
    "tags": []
   },
   "outputs": [],
   "source": [
    "import noisereduce as nr\n",
    "import torchaudio\n",
    "# STFT\n",
    "device = \"cpu\"\n",
    "n_fft = 1024\n",
    "win_length = 1024\n",
    "hop_length = 512\n",
    "transform = torchaudio.transforms.Spectrogram(\n",
    "    n_fft = n_fft,           # freqGroup = n_fft//2 + 1\n",
    "    win_length = win_length, # freq gap for each group\n",
    "    hop_length = hop_length, # length = samples / hop_length\n",
    "    center = True,\n",
    "    pad_mode = 'reflect',\n",
    "    power=2.0\n",
    ").to(device)\n",
    "\n",
    "@torch.no_grad()\n",
    "def create_spectrogram(fname,reduce_noise = False,channel = 0):\n",
    "    waveform, sample_rate = torchaudio.load(fname)\n",
    "       \n",
    "    # Change singal to mono\n",
    "    if waveform.shape[0] > 1:\n",
    "        waveform = torch.mean(waveform, axis=0, keepdim=True)\n",
    "        \n",
    "    # Reduce noise\n",
    "    if reduce_noise:\n",
    "        waveform = torch.tensor(nr.reduce_noise(\n",
    "            y=waveform,\n",
    "            sr=sample_rate,\n",
    "            use_tqdm=True,\n",
    "            n_jobs=3,\n",
    "        ))\n",
    "    step = int(5 * sample_rate)\n",
    "    lenSamples = waveform.size()[-1]\n",
    "    if (lenSamples%step) > (step*0.6):\n",
    "        waveform = torch.nn.functional.pad(waveform, (0,step-lenSamples%step), mode='constant', value=0.0)\n",
    "    \n",
    "\n",
    "    frames = []\n",
    "    for i in range(waveform.size()[-1]//step):\n",
    "        begin = i * step\n",
    "#         print(output_path)\n",
    "        frame = waveform[:,begin:begin + step]\n",
    "        frames.append(frame)\n",
    "    return transform(torch.stack(frames)) \n",
    "        \n",
    "\n",
    "# path_audio = '../input/birdclef-2022/test_soundscapes/soundscape_453028782.ogg'\n",
    "# print(path_audio)\n",
    "# spec = create_spectrogram(path_audio, reduce_noise=True)\n",
    "# print(spec.shape)"
   ]
  },
  {
   "cell_type": "markdown",
   "id": "c293d981",
   "metadata": {
    "papermill": {
     "duration": 0.016537,
     "end_time": "2022-04-24T12:48:28.944690",
     "exception": false,
     "start_time": "2022-04-24T12:48:28.928153",
     "status": "completed"
    },
    "tags": []
   },
   "source": [
    "# Test"
   ]
  },
  {
   "cell_type": "code",
   "execution_count": 8,
   "id": "1961426c",
   "metadata": {
    "execution": {
     "iopub.execute_input": "2022-04-24T12:48:28.981343Z",
     "iopub.status.busy": "2022-04-24T12:48:28.981061Z",
     "iopub.status.idle": "2022-04-24T12:48:29.085041Z",
     "shell.execute_reply": "2022-04-24T12:48:29.084276Z"
    },
    "papermill": {
     "duration": 0.125962,
     "end_time": "2022-04-24T12:48:29.087585",
     "exception": false,
     "start_time": "2022-04-24T12:48:28.961623",
     "status": "completed"
    },
    "tags": []
   },
   "outputs": [],
   "source": [
    "from sklearn.preprocessing import LabelEncoder\n",
    "import numpy as np\n",
    "import pandas as pd\n",
    "df = pd.read_csv('../input/birdclef-2022/train_metadata.csv')"
   ]
  },
  {
   "cell_type": "markdown",
   "id": "7f16922c",
   "metadata": {
    "papermill": {
     "duration": 0.016747,
     "end_time": "2022-04-24T12:48:29.121432",
     "exception": false,
     "start_time": "2022-04-24T12:48:29.104685",
     "status": "completed"
    },
    "tags": []
   },
   "source": [
    "## Encoder"
   ]
  },
  {
   "cell_type": "code",
   "execution_count": 9,
   "id": "ff41d9f9",
   "metadata": {
    "execution": {
     "iopub.execute_input": "2022-04-24T12:48:29.157155Z",
     "iopub.status.busy": "2022-04-24T12:48:29.156842Z",
     "iopub.status.idle": "2022-04-24T12:48:29.172671Z",
     "shell.execute_reply": "2022-04-24T12:48:29.171784Z"
    },
    "papermill": {
     "duration": 0.036426,
     "end_time": "2022-04-24T12:48:29.174763",
     "exception": false,
     "start_time": "2022-04-24T12:48:29.138337",
     "status": "completed"
    },
    "tags": []
   },
   "outputs": [
    {
     "data": {
      "text/plain": [
       "LabelEncoder()"
      ]
     },
     "execution_count": 9,
     "metadata": {},
     "output_type": "execute_result"
    }
   ],
   "source": [
    "encoderList = np.load('../input/model-02f1/encoder_list.npy',allow_pickle=True)\n",
    "encoder = LabelEncoder()\n",
    "encoder.fit(encoderList)\n",
    "# encoder.classes_"
   ]
  },
  {
   "cell_type": "markdown",
   "id": "4db62993",
   "metadata": {
    "papermill": {
     "duration": 0.017024,
     "end_time": "2022-04-24T12:48:29.209023",
     "exception": false,
     "start_time": "2022-04-24T12:48:29.191999",
     "status": "completed"
    },
    "tags": []
   },
   "source": [
    "## Simple Train Test"
   ]
  },
  {
   "cell_type": "code",
   "execution_count": 10,
   "id": "b9e48d82",
   "metadata": {
    "execution": {
     "iopub.execute_input": "2022-04-24T12:48:29.244664Z",
     "iopub.status.busy": "2022-04-24T12:48:29.244412Z",
     "iopub.status.idle": "2022-04-24T12:48:29.248270Z",
     "shell.execute_reply": "2022-04-24T12:48:29.247206Z"
    },
    "papermill": {
     "duration": 0.024257,
     "end_time": "2022-04-24T12:48:29.250259",
     "exception": false,
     "start_time": "2022-04-24T12:48:29.226002",
     "status": "completed"
    },
    "tags": []
   },
   "outputs": [],
   "source": [
    "# import IPython.display as ipd\n",
    "\n",
    "# index = 9\n",
    "# testData = df.loc[index]\n",
    "# path_audio = os.path.join(PATH_DATA,'train_audio',testData.filename)\n",
    "# print(testData.primary_label,testData.secondary_labels,testData.type,testData.rating)\n",
    "# display(ipd.Audio(path_audio))\n",
    "\n",
    "\n",
    "\n",
    "# spec = create_spectrogram(path_audio, reduce_noise=True)\n",
    "\n",
    "# outputs = model(spec)\n",
    "# _, preds = torch.max(outputs, 1)\n",
    "# print(encoder.inverse_transform(preds))"
   ]
  },
  {
   "cell_type": "markdown",
   "id": "19350aa9",
   "metadata": {
    "papermill": {
     "duration": 0.017023,
     "end_time": "2022-04-24T12:48:29.284553",
     "exception": false,
     "start_time": "2022-04-24T12:48:29.267530",
     "status": "completed"
    },
    "tags": []
   },
   "source": [
    "## Test Example"
   ]
  },
  {
   "cell_type": "code",
   "execution_count": 11,
   "id": "d347f7b5",
   "metadata": {
    "execution": {
     "iopub.execute_input": "2022-04-24T12:48:29.320351Z",
     "iopub.status.busy": "2022-04-24T12:48:29.320026Z",
     "iopub.status.idle": "2022-04-24T12:48:29.324024Z",
     "shell.execute_reply": "2022-04-24T12:48:29.323290Z"
    },
    "papermill": {
     "duration": 0.024262,
     "end_time": "2022-04-24T12:48:29.325838",
     "exception": false,
     "start_time": "2022-04-24T12:48:29.301576",
     "status": "completed"
    },
    "tags": []
   },
   "outputs": [],
   "source": [
    "# path_audio = '../input/birdclef-2022/test_soundscapes/soundscape_453028782.ogg'\n",
    "\n",
    "# spec = create_spectrogram(path_audio, reduce_noise=True)\n",
    "\n",
    "# outputs = model(spec)\n",
    "\n",
    "# _, preds = torch.max(outputs, 1)\n",
    "\n",
    "# print(encoder.inverse_transform(preds))\n",
    "# outputs.shape"
   ]
  },
  {
   "cell_type": "markdown",
   "id": "d5f2d656",
   "metadata": {
    "papermill": {
     "duration": 0.016766,
     "end_time": "2022-04-24T12:48:29.360380",
     "exception": false,
     "start_time": "2022-04-24T12:48:29.343614",
     "status": "completed"
    },
    "tags": []
   },
   "source": [
    "## Test Submission"
   ]
  },
  {
   "cell_type": "code",
   "execution_count": 12,
   "id": "fea5c4b2",
   "metadata": {
    "execution": {
     "iopub.execute_input": "2022-04-24T12:48:29.395604Z",
     "iopub.status.busy": "2022-04-24T12:48:29.395317Z",
     "iopub.status.idle": "2022-04-24T12:48:29.405333Z",
     "shell.execute_reply": "2022-04-24T12:48:29.404029Z"
    },
    "papermill": {
     "duration": 0.030567,
     "end_time": "2022-04-24T12:48:29.407865",
     "exception": false,
     "start_time": "2022-04-24T12:48:29.377298",
     "status": "completed"
    },
    "tags": []
   },
   "outputs": [
    {
     "name": "stdout",
     "output_type": "stream",
     "text": [
      "['akiapo', 'aniani', 'apapan', 'barpet', 'crehon', 'elepai', 'ercfra', 'hawama', 'hawcre', 'hawgoo', 'hawhaw', 'hawpet1', 'houfin', 'iiwi', 'jabwar', 'maupar', 'omao', 'puaioh', 'skylar', 'warwhe1', 'yefcan']\n",
      "[  3   6   7   9  44  46  47  60  62  63  64  65  67  70  72  90 101 111\n",
      " 131 141 150]\n"
     ]
    }
   ],
   "source": [
    "import json\n",
    "\n",
    "with open(os.path.join(PATH_DATA, \"scored_birds.json\")) as fp:\n",
    "    scored_birds = json.load(fp)\n",
    "\n",
    "print(scored_birds)\n",
    "print(encoder.transform(scored_birds))"
   ]
  },
  {
   "cell_type": "code",
   "execution_count": 13,
   "id": "12cb44a3",
   "metadata": {
    "execution": {
     "iopub.execute_input": "2022-04-24T12:48:29.446092Z",
     "iopub.status.busy": "2022-04-24T12:48:29.445798Z",
     "iopub.status.idle": "2022-04-24T12:48:29.449553Z",
     "shell.execute_reply": "2022-04-24T12:48:29.448694Z"
    },
    "papermill": {
     "duration": 0.024694,
     "end_time": "2022-04-24T12:48:29.451595",
     "exception": false,
     "start_time": "2022-04-24T12:48:29.426901",
     "status": "completed"
    },
    "tags": []
   },
   "outputs": [],
   "source": [
    "# import glob\n",
    "# path_audio = glob.glob(\"/kaggle/input/birdclef-2022/test_soundscapes/*.ogg\")[0]\n",
    "# print(path_audio)\n",
    "# spec = create_spectrogram(path_audio, reduce_noise=True)\n",
    "# segSpec = cut_Spectrum(spec,segLen)\n",
    "# outputs = model(segSpec)\n"
   ]
  },
  {
   "cell_type": "code",
   "execution_count": 14,
   "id": "200ad3e3",
   "metadata": {
    "execution": {
     "iopub.execute_input": "2022-04-24T12:48:29.489377Z",
     "iopub.status.busy": "2022-04-24T12:48:29.489116Z",
     "iopub.status.idle": "2022-04-24T12:48:33.908357Z",
     "shell.execute_reply": "2022-04-24T12:48:33.906340Z"
    },
    "papermill": {
     "duration": 4.440827,
     "end_time": "2022-04-24T12:48:33.911131",
     "exception": false,
     "start_time": "2022-04-24T12:48:29.470304",
     "status": "completed"
    },
    "tags": []
   },
   "outputs": [],
   "source": [
    "import glob\n",
    "import math\n",
    "\n",
    "TestPathAudio = glob.glob(\"/kaggle/input/birdclef-2022/test_soundscapes/*.ogg\")\n",
    "threshold = 1/config.num_classes\n",
    "outputBirds = list(zip(scored_birds,encoder.transform(scored_birds)))\n",
    "\n",
    "submission = []\n",
    "for path_audio in TestPathAudio:\n",
    "    filename = os.path.basename(path_audio).replace('.ogg','')\n",
    "\n",
    "    spec = create_spectrogram(path_audio, reduce_noise=True)\n",
    "    outputs = model(spec)\n",
    "    outputs = torch.nn.Softmax(dim=1)(outputs)\n",
    "    \n",
    "    for i in range(len(outputs)):\n",
    "        for bird,pos in outputBirds:\n",
    "            submission.append({\n",
    "                \"row_id\": filename + '_'+bird +'_' + str((i+1)*5),\n",
    "                \"target\": outputs[i,pos].item() > threshold,\n",
    "            })"
   ]
  },
  {
   "cell_type": "code",
   "execution_count": 15,
   "id": "f3d7ced2",
   "metadata": {
    "execution": {
     "iopub.execute_input": "2022-04-24T12:48:33.949719Z",
     "iopub.status.busy": "2022-04-24T12:48:33.949429Z",
     "iopub.status.idle": "2022-04-24T12:48:33.968300Z",
     "shell.execute_reply": "2022-04-24T12:48:33.967468Z"
    },
    "papermill": {
     "duration": 0.040815,
     "end_time": "2022-04-24T12:48:33.970343",
     "exception": false,
     "start_time": "2022-04-24T12:48:33.929528",
     "status": "completed"
    },
    "tags": []
   },
   "outputs": [],
   "source": [
    "df_submission = pd.DataFrame(submission).set_index(\"row_id\")\n",
    "df_submission.to_csv(\"submission.csv\")\n"
   ]
  },
  {
   "cell_type": "code",
   "execution_count": 16,
   "id": "ca525ddd",
   "metadata": {
    "execution": {
     "iopub.execute_input": "2022-04-24T12:48:34.008290Z",
     "iopub.status.busy": "2022-04-24T12:48:34.008006Z",
     "iopub.status.idle": "2022-04-24T12:48:34.024281Z",
     "shell.execute_reply": "2022-04-24T12:48:34.023246Z"
    },
    "papermill": {
     "duration": 0.037806,
     "end_time": "2022-04-24T12:48:34.026595",
     "exception": false,
     "start_time": "2022-04-24T12:48:33.988789",
     "status": "completed"
    },
    "tags": []
   },
   "outputs": [
    {
     "data": {
      "text/html": [
       "<div>\n",
       "<style scoped>\n",
       "    .dataframe tbody tr th:only-of-type {\n",
       "        vertical-align: middle;\n",
       "    }\n",
       "\n",
       "    .dataframe tbody tr th {\n",
       "        vertical-align: top;\n",
       "    }\n",
       "\n",
       "    .dataframe thead th {\n",
       "        text-align: right;\n",
       "    }\n",
       "</style>\n",
       "<table border=\"1\" class=\"dataframe\">\n",
       "  <thead>\n",
       "    <tr style=\"text-align: right;\">\n",
       "      <th></th>\n",
       "      <th>target</th>\n",
       "    </tr>\n",
       "    <tr>\n",
       "      <th>row_id</th>\n",
       "      <th></th>\n",
       "    </tr>\n",
       "  </thead>\n",
       "  <tbody>\n",
       "    <tr>\n",
       "      <th>soundscape_453028782_akiapo_5</th>\n",
       "      <td>False</td>\n",
       "    </tr>\n",
       "    <tr>\n",
       "      <th>soundscape_453028782_aniani_5</th>\n",
       "      <td>False</td>\n",
       "    </tr>\n",
       "    <tr>\n",
       "      <th>soundscape_453028782_apapan_5</th>\n",
       "      <td>False</td>\n",
       "    </tr>\n",
       "    <tr>\n",
       "      <th>soundscape_453028782_barpet_5</th>\n",
       "      <td>False</td>\n",
       "    </tr>\n",
       "    <tr>\n",
       "      <th>soundscape_453028782_crehon_5</th>\n",
       "      <td>False</td>\n",
       "    </tr>\n",
       "    <tr>\n",
       "      <th>...</th>\n",
       "      <td>...</td>\n",
       "    </tr>\n",
       "    <tr>\n",
       "      <th>soundscape_453028782_omao_60</th>\n",
       "      <td>False</td>\n",
       "    </tr>\n",
       "    <tr>\n",
       "      <th>soundscape_453028782_puaioh_60</th>\n",
       "      <td>False</td>\n",
       "    </tr>\n",
       "    <tr>\n",
       "      <th>soundscape_453028782_skylar_60</th>\n",
       "      <td>False</td>\n",
       "    </tr>\n",
       "    <tr>\n",
       "      <th>soundscape_453028782_warwhe1_60</th>\n",
       "      <td>False</td>\n",
       "    </tr>\n",
       "    <tr>\n",
       "      <th>soundscape_453028782_yefcan_60</th>\n",
       "      <td>False</td>\n",
       "    </tr>\n",
       "  </tbody>\n",
       "</table>\n",
       "<p>252 rows × 1 columns</p>\n",
       "</div>"
      ],
      "text/plain": [
       "                                 target\n",
       "row_id                                 \n",
       "soundscape_453028782_akiapo_5     False\n",
       "soundscape_453028782_aniani_5     False\n",
       "soundscape_453028782_apapan_5     False\n",
       "soundscape_453028782_barpet_5     False\n",
       "soundscape_453028782_crehon_5     False\n",
       "...                                 ...\n",
       "soundscape_453028782_omao_60      False\n",
       "soundscape_453028782_puaioh_60    False\n",
       "soundscape_453028782_skylar_60    False\n",
       "soundscape_453028782_warwhe1_60   False\n",
       "soundscape_453028782_yefcan_60    False\n",
       "\n",
       "[252 rows x 1 columns]"
      ]
     },
     "execution_count": 16,
     "metadata": {},
     "output_type": "execute_result"
    }
   ],
   "source": [
    "df_submission"
   ]
  },
  {
   "cell_type": "code",
   "execution_count": null,
   "id": "c5fe2c57",
   "metadata": {
    "papermill": {
     "duration": 0.017679,
     "end_time": "2022-04-24T12:48:34.063418",
     "exception": false,
     "start_time": "2022-04-24T12:48:34.045739",
     "status": "completed"
    },
    "tags": []
   },
   "outputs": [],
   "source": []
  }
 ],
 "metadata": {
  "kernelspec": {
   "display_name": "Python 3",
   "language": "python",
   "name": "python3"
  },
  "language_info": {
   "codemirror_mode": {
    "name": "ipython",
    "version": 3
   },
   "file_extension": ".py",
   "mimetype": "text/x-python",
   "name": "python",
   "nbconvert_exporter": "python",
   "pygments_lexer": "ipython3",
   "version": "3.7.12"
  },
  "papermill": {
   "default_parameters": {},
   "duration": 25.325255,
   "end_time": "2022-04-24T12:48:36.703178",
   "environment_variables": {},
   "exception": null,
   "input_path": "__notebook__.ipynb",
   "output_path": "__notebook__.ipynb",
   "parameters": {},
   "start_time": "2022-04-24T12:48:11.377923",
   "version": "2.3.4"
  }
 },
 "nbformat": 4,
 "nbformat_minor": 5
}
