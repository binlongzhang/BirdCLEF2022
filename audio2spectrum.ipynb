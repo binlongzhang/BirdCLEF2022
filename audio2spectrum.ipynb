{
 "cells": [
  {
   "cell_type": "code",
   "execution_count": null,
   "metadata": {
    "execution": {
     "iopub.execute_input": "2022-04-11T12:19:19.475152Z",
     "iopub.status.busy": "2022-04-11T12:19:19.474762Z",
     "iopub.status.idle": "2022-04-11T12:19:31.760677Z",
     "shell.execute_reply": "2022-04-11T12:19:31.759584Z",
     "shell.execute_reply.started": "2022-04-11T12:19:19.475053Z"
    }
   },
   "outputs": [],
   "source": [
    "!pip install -q noisereduce\n",
    "PATH_DATASET = \"/kaggle/input/birdclef-2022\""
   ]
  },
  {
   "cell_type": "code",
   "execution_count": null,
   "metadata": {
    "execution": {
     "iopub.execute_input": "2022-04-11T12:19:31.763911Z",
     "iopub.status.busy": "2022-04-11T12:19:31.763516Z",
     "iopub.status.idle": "2022-04-11T12:19:31.920849Z",
     "shell.execute_reply": "2022-04-11T12:19:31.92021Z",
     "shell.execute_reply.started": "2022-04-11T12:19:31.763851Z"
    }
   },
   "outputs": [],
   "source": [
    "import os\n",
    "import pandas as pd\n",
    "\n",
    "path_csv = os.path.join(PATH_DATASET, \"train_metadata.csv\")\n",
    "train_meta = pd.read_csv(path_csv).sample(frac=1)\n",
    "display(train_meta.head())"
   ]
  },
  {
   "cell_type": "code",
   "execution_count": null,
   "metadata": {
    "execution": {
     "iopub.execute_input": "2022-04-11T12:19:31.922464Z",
     "iopub.status.busy": "2022-04-11T12:19:31.922062Z",
     "iopub.status.idle": "2022-04-11T12:19:31.929769Z",
     "shell.execute_reply": "2022-04-11T12:19:31.928549Z",
     "shell.execute_reply.started": "2022-04-11T12:19:31.922431Z"
    }
   },
   "outputs": [],
   "source": [
    "os.cpu_count()"
   ]
  },
  {
   "cell_type": "code",
   "execution_count": null,
   "metadata": {
    "execution": {
     "iopub.execute_input": "2022-04-11T12:19:31.932812Z",
     "iopub.status.busy": "2022-04-11T12:19:31.932427Z",
     "iopub.status.idle": "2022-04-11T12:19:34.362312Z",
     "shell.execute_reply": "2022-04-11T12:19:34.361282Z",
     "shell.execute_reply.started": "2022-04-11T12:19:31.932766Z"
    }
   },
   "outputs": [],
   "source": [
    "import torchaudio\n",
    "from tqdm.auto import tqdm\n",
    "from joblib import Parallel, delayed\n"
   ]
  },
  {
   "cell_type": "markdown",
   "metadata": {},
   "source": [
    "# Function for slice audio"
   ]
  },
  {
   "cell_type": "code",
   "execution_count": null,
   "metadata": {
    "execution": {
     "iopub.execute_input": "2022-04-11T12:19:34.364776Z",
     "iopub.status.busy": "2022-04-11T12:19:34.364435Z",
     "iopub.status.idle": "2022-04-11T12:19:38.374073Z",
     "shell.execute_reply": "2022-04-11T12:19:38.371812Z",
     "shell.execute_reply.started": "2022-04-11T12:19:34.364712Z"
    }
   },
   "outputs": [],
   "source": [
    "import torch\n",
    "import noisereduce as nr\n",
    "from torch.utils.data import DataLoader\n",
    "from math import ceil\n",
    "\n",
    "# STFT\n",
    "device = \"cpu\"\n",
    "n_fft = 1024\n",
    "win_length = 1024\n",
    "hop_length = 512\n",
    "transform = torchaudio.transforms.Spectrogram(\n",
    "    n_fft = n_fft,           # freqGroup = n_fft//2 + 1\n",
    "    win_length = win_length, # freq gap for each group\n",
    "    hop_length = hop_length, # length = samples / hop_length\n",
    "    center = True,\n",
    "    pad_mode = 'reflect',\n",
    "    power=2.0\n",
    ").to(device)\n",
    "\n",
    "@torch.no_grad()\n",
    "def create_spectrogram(\n",
    "    fname: str,\n",
    "    reduce_noise: bool = False,\n",
    "    frame_size: int = 5,\n",
    "    frame_step: int = 5,\n",
    "    channel: int = 0,\n",
    "    device = \"cpu\",\n",
    "    batch_size=5,\n",
    "):\n",
    "    \n",
    "    waveform, sample_rate = torchaudio.load(fname)\n",
    "       \n",
    "    # Change singal to mono\n",
    "    if waveform.shape[0] > 1:\n",
    "        waveform = torch.mean(waveform, axis=0, keepdim=True)\n",
    "        \n",
    "    # Reduce noise\n",
    "    if reduce_noise:\n",
    "        waveform = torch.tensor(nr.reduce_noise(\n",
    "            y=waveform,\n",
    "            sr=sample_rate,\n",
    "            win_length=transform.win_length,\n",
    "            use_tqdm=False,\n",
    "            n_jobs=2,\n",
    "        ))\n",
    "        \n",
    "    step = int(frame_step * sample_rate)\n",
    "    size = int(frame_size * sample_rate)\n",
    "    frames = []\n",
    "    for i in range(ceil((waveform.size()[-1] - size) / step)):\n",
    "        begin = i * step\n",
    "        frame = waveform[channel][begin:begin + size]\n",
    "        if len(frame) < size:\n",
    "            if i == 0:\n",
    "                rep = round(float(size) / len(frame))\n",
    "                frame = frame.repeat(int(rep))\n",
    "            elif len(frame) < (size * 0.33):\n",
    "                continue\n",
    "            else:\n",
    "                frame = waveform[channel][-size:]\n",
    "        frames.append(frame)\n",
    "    else:\n",
    "        frame = waveform[channel]\n",
    "        rep = ceil(float(size) / len(frame))\n",
    "        frame = frame.repeat(int(rep))[0:size]\n",
    "        frames.append(frame)\n",
    "\n",
    "    if not frames:\n",
    "        return torch.Tensor()\n",
    "    else:\n",
    "        return torch.nan_to_num(torch.log(transform(torch.stack(frames))).to(torch.float16))\n",
    "\n",
    "path_audio = os.path.join(PATH_DATASET, \"train_audio\", train_meta[\"filename\"][5])\n",
    "print(path_audio)\n",
    "\n",
    "segSpec = create_spectrogram(path_audio, reduce_noise=True)\n",
    "\n",
    "print(segSpec.min(),segSpec.max())"
   ]
  },
  {
   "cell_type": "code",
   "execution_count": null,
   "metadata": {
    "execution": {
     "iopub.execute_input": "2022-04-11T12:19:38.376024Z",
     "iopub.status.busy": "2022-04-11T12:19:38.375721Z",
     "iopub.status.idle": "2022-04-11T12:19:38.380963Z",
     "shell.execute_reply": "2022-04-11T12:19:38.379678Z",
     "shell.execute_reply.started": "2022-04-11T12:19:38.375992Z"
    }
   },
   "outputs": [],
   "source": [
    "# value in -100~20\n",
    "# for i in range(100):\n",
    "#     segSpec = create_spectrogram(train_meta[\"filename\"][i], reduce_noise=True)\n",
    "#     if segSpec.shape[0]!=0:\n",
    "#         print(segSpec.max(),segSpec.min())"
   ]
  },
  {
   "cell_type": "code",
   "execution_count": null,
   "metadata": {
    "execution": {
     "iopub.execute_input": "2022-04-11T12:19:38.383138Z",
     "iopub.status.busy": "2022-04-11T12:19:38.382781Z",
     "iopub.status.idle": "2022-04-11T12:19:38.39688Z",
     "shell.execute_reply": "2022-04-11T12:19:38.395781Z",
     "shell.execute_reply.started": "2022-04-11T12:19:38.383095Z"
    }
   },
   "outputs": [],
   "source": [
    "import numpy as np\n",
    "def save_seg_spectrum(segSpec,birdName,fileName):\n",
    "    if segSpec.shape[0]!=0:\n",
    "        pathExport = os.path.join('./', \"train_np\", birdName)\n",
    "        os.makedirs(pathExport, exist_ok=True)\n",
    "        filename = os.path.join('./', \"train_np\", fileName)\n",
    "\n",
    "        for i,data in enumerate(segSpec):\n",
    "            outputPath = filename.replace('.ogg' , '_'+str(i)+'.npy')\n",
    "            np.save(outputPath,data)\n",
    "    return fileName,segSpec.shape[0]\n",
    "        \n",
    "# save_seg_spectrum(segSpec,train_meta[\"primary_label\"][2],train_meta[\"filename\"][2])"
   ]
  },
  {
   "cell_type": "code",
   "execution_count": null,
   "metadata": {
    "execution": {
     "iopub.execute_input": "2022-04-11T12:19:38.399487Z",
     "iopub.status.busy": "2022-04-11T12:19:38.398853Z",
     "iopub.status.idle": "2022-04-11T12:19:38.7129Z",
     "shell.execute_reply": "2022-04-11T12:19:38.71184Z",
     "shell.execute_reply.started": "2022-04-11T12:19:38.399446Z"
    }
   },
   "outputs": [],
   "source": [
    "def read_Export(index,birdName,fileName):\n",
    "    path_audio = os.path.join(PATH_DATASET, \"train_audio\", fileName)\n",
    "    segSpec = create_spectrogram(path_audio, reduce_noise=True)\n",
    "    return  save_seg_spectrum(segSpec,birdName,fileName)\n",
    "\n",
    "\n",
    "# read_Export(0,train_meta[\"primary_label\"][0],train_meta[\"filename\"][0])"
   ]
  },
  {
   "cell_type": "markdown",
   "metadata": {},
   "source": [
    "# Filter data"
   ]
  },
  {
   "cell_type": "code",
   "execution_count": null,
   "metadata": {
    "execution": {
     "iopub.execute_input": "2022-04-11T12:20:42.723937Z",
     "iopub.status.busy": "2022-04-11T12:20:42.722794Z",
     "iopub.status.idle": "2022-04-11T12:20:42.850108Z",
     "shell.execute_reply": "2022-04-11T12:20:42.848602Z",
     "shell.execute_reply.started": "2022-04-11T12:20:42.723874Z"
    }
   },
   "outputs": [],
   "source": [
    "train_meta = pd.read_csv(path_csv)\n",
    "train_meta"
   ]
  },
  {
   "cell_type": "code",
   "execution_count": null,
   "metadata": {
    "execution": {
     "iopub.execute_input": "2022-04-11T12:20:48.550124Z",
     "iopub.status.busy": "2022-04-11T12:20:48.549777Z",
     "iopub.status.idle": "2022-04-11T12:21:37.771863Z",
     "shell.execute_reply": "2022-04-11T12:21:37.770821Z",
     "shell.execute_reply.started": "2022-04-11T12:20:48.550081Z"
    }
   },
   "outputs": [],
   "source": [
    "def getLength(fn):\n",
    "    fp = os.path.join(PATH_DATASET, \"train_audio\", fn)\n",
    "    metadata = torchaudio.info(fp)\n",
    "    return metadata.num_frames\n",
    "\n",
    "train_meta['duration'] = Parallel(n_jobs=os.cpu_count())(delayed(getLength)(fn) for fn in tqdm(train_meta[\"filename\"]))\n",
    "train_meta['duration'] = train_meta['duration']/32000\n",
    "train_meta"
   ]
  },
  {
   "cell_type": "markdown",
   "metadata": {},
   "source": [
    "## Delete low rating data"
   ]
  },
  {
   "cell_type": "code",
   "execution_count": null,
   "metadata": {
    "execution": {
     "iopub.execute_input": "2022-04-11T12:21:41.950078Z",
     "iopub.status.busy": "2022-04-11T12:21:41.949668Z",
     "iopub.status.idle": "2022-04-11T12:21:41.965381Z",
     "shell.execute_reply": "2022-04-11T12:21:41.964695Z",
     "shell.execute_reply.started": "2022-04-11T12:21:41.950032Z"
    }
   },
   "outputs": [],
   "source": [
    "train_meta_filter1 = train_meta[train_meta['rating']>2]\n",
    "train_meta_filter1.shape"
   ]
  },
  {
   "cell_type": "markdown",
   "metadata": {},
   "source": [
    "## Delete long/enough data"
   ]
  },
  {
   "cell_type": "code",
   "execution_count": null,
   "metadata": {
    "execution": {
     "iopub.execute_input": "2022-04-11T12:21:42.938159Z",
     "iopub.status.busy": "2022-04-11T12:21:42.937528Z",
     "iopub.status.idle": "2022-04-11T12:21:42.971529Z",
     "shell.execute_reply": "2022-04-11T12:21:42.970825Z",
     "shell.execute_reply.started": "2022-04-11T12:21:42.938119Z"
    }
   },
   "outputs": [],
   "source": [
    "# these bird audio is enough and too long\n",
    "train_meta_filter1[train_meta_filter1['duration']>800]"
   ]
  },
  {
   "cell_type": "code",
   "execution_count": null,
   "metadata": {
    "execution": {
     "iopub.execute_input": "2022-04-11T12:21:43.553607Z",
     "iopub.status.busy": "2022-04-11T12:21:43.552312Z",
     "iopub.status.idle": "2022-04-11T12:21:43.563804Z",
     "shell.execute_reply": "2022-04-11T12:21:43.562533Z",
     "shell.execute_reply.started": "2022-04-11T12:21:43.553545Z"
    }
   },
   "outputs": [],
   "source": [
    "train_meta_filter2 = train_meta_filter1[train_meta_filter1['duration']<800]\n",
    "train_meta_filter2.shape"
   ]
  },
  {
   "cell_type": "code",
   "execution_count": null,
   "metadata": {
    "execution": {
     "iopub.execute_input": "2022-04-11T12:21:44.895321Z",
     "iopub.status.busy": "2022-04-11T12:21:44.894089Z",
     "iopub.status.idle": "2022-04-11T12:21:44.89963Z",
     "shell.execute_reply": "2022-04-11T12:21:44.898749Z",
     "shell.execute_reply.started": "2022-04-11T12:21:44.895264Z"
    }
   },
   "outputs": [],
   "source": [
    "# 用于将分组数据输出成临时文件，方便观察\n",
    "# train_meta_filter2[['primary_label','duration']].groupby('primary_label').sum().to_csv('temp.csv')\n"
   ]
  },
  {
   "cell_type": "code",
   "execution_count": null,
   "metadata": {
    "execution": {
     "iopub.execute_input": "2022-04-11T12:21:45.398676Z",
     "iopub.status.busy": "2022-04-11T12:21:45.397547Z",
     "iopub.status.idle": "2022-04-11T12:21:45.421963Z",
     "shell.execute_reply": "2022-04-11T12:21:45.420801Z",
     "shell.execute_reply.started": "2022-04-11T12:21:45.398616Z"
    }
   },
   "outputs": [],
   "source": [
    "groupDuration = train_meta_filter2[['primary_label','duration']].groupby('primary_label').sum()\n",
    "# groupDuration[groupDuration['duration']>3000]\n",
    "groupDuration"
   ]
  },
  {
   "cell_type": "code",
   "execution_count": null,
   "metadata": {
    "execution": {
     "iopub.execute_input": "2022-04-11T12:21:49.579249Z",
     "iopub.status.busy": "2022-04-11T12:21:49.578974Z",
     "iopub.status.idle": "2022-04-11T12:21:49.592692Z",
     "shell.execute_reply": "2022-04-11T12:21:49.591522Z",
     "shell.execute_reply.started": "2022-04-11T12:21:49.579221Z"
    }
   },
   "outputs": [],
   "source": [
    "groupDuration['duration'].describe()"
   ]
  },
  {
   "cell_type": "markdown",
   "metadata": {},
   "source": [
    "## delete too much data"
   ]
  },
  {
   "cell_type": "code",
   "execution_count": null,
   "metadata": {
    "execution": {
     "iopub.execute_input": "2022-04-11T12:21:50.740279Z",
     "iopub.status.busy": "2022-04-11T12:21:50.739942Z",
     "iopub.status.idle": "2022-04-11T12:22:14.450783Z",
     "shell.execute_reply": "2022-04-11T12:22:14.449689Z",
     "shell.execute_reply.started": "2022-04-11T12:21:50.740246Z"
    }
   },
   "outputs": [],
   "source": [
    "import random\n",
    "\n",
    "train_meta_filter3 = train_meta_filter2.copy()\n",
    "deleteData = groupDuration[groupDuration['duration']>500]-500\n",
    "for index,row in deleteData.iterrows():\n",
    "    temp = 0\n",
    "    deleteIndex = train_meta_filter3[train_meta_filter3['primary_label']==row.name].index\n",
    "    tempTop = row.duration\n",
    "    while(temp<tempTop):\n",
    "        dI = random.randint(0,len(deleteIndex)-1)\n",
    "        temp =temp + train_meta_filter3[train_meta_filter3.index==deleteIndex[dI]].duration.item()\n",
    "        train_meta_filter3.drop(deleteIndex[dI],axis=0,inplace=True)\n",
    "        deleteIndex = deleteIndex.delete(dI)\n",
    "#     print(\n",
    "#     break"
   ]
  },
  {
   "cell_type": "code",
   "execution_count": null,
   "metadata": {
    "execution": {
     "iopub.execute_input": "2022-04-11T12:22:14.452772Z",
     "iopub.status.busy": "2022-04-11T12:22:14.45248Z",
     "iopub.status.idle": "2022-04-11T12:22:14.475282Z",
     "shell.execute_reply": "2022-04-11T12:22:14.474293Z",
     "shell.execute_reply.started": "2022-04-11T12:22:14.45274Z"
    }
   },
   "outputs": [],
   "source": [
    "groupDuration3= train_meta_filter3[['primary_label','duration']].groupby('primary_label').sum()\n",
    "# groupDuration[groupDuration['duration']>3000]\n",
    "groupDuration3.describe()"
   ]
  },
  {
   "cell_type": "code",
   "execution_count": null,
   "metadata": {
    "execution": {
     "iopub.execute_input": "2022-04-11T12:22:14.477604Z",
     "iopub.status.busy": "2022-04-11T12:22:14.47709Z",
     "iopub.status.idle": "2022-04-11T12:22:14.490783Z",
     "shell.execute_reply": "2022-04-11T12:22:14.489915Z",
     "shell.execute_reply.started": "2022-04-11T12:22:14.477557Z"
    }
   },
   "outputs": [],
   "source": [
    "groupDuration3.sum().item()"
   ]
  },
  {
   "cell_type": "code",
   "execution_count": null,
   "metadata": {
    "execution": {
     "iopub.execute_input": "2022-04-11T12:22:14.49352Z",
     "iopub.status.busy": "2022-04-11T12:22:14.492906Z",
     "iopub.status.idle": "2022-04-11T12:22:14.506316Z",
     "shell.execute_reply": "2022-04-11T12:22:14.505674Z",
     "shell.execute_reply.started": "2022-04-11T12:22:14.493471Z"
    }
   },
   "outputs": [],
   "source": [
    "((groupDuration3.sum().item()/5)*321)/(1024*1024)"
   ]
  },
  {
   "cell_type": "markdown",
   "metadata": {},
   "source": [
    "# Get Data"
   ]
  },
  {
   "cell_type": "code",
   "execution_count": null,
   "metadata": {
    "execution": {
     "iopub.execute_input": "2022-04-11T12:22:28.18265Z",
     "iopub.status.busy": "2022-04-11T12:22:28.182216Z",
     "iopub.status.idle": "2022-04-11T12:22:28.211188Z",
     "shell.execute_reply": "2022-04-11T12:22:28.210289Z",
     "shell.execute_reply.started": "2022-04-11T12:22:28.182619Z"
    }
   },
   "outputs": [],
   "source": [
    "train_meta_final = train_meta_filter3.reset_index(drop=True)\n",
    "train_meta_final"
   ]
  },
  {
   "cell_type": "code",
   "execution_count": null,
   "metadata": {},
   "outputs": [],
   "source": [
    "from tqdm.notebook import tqdm\n",
    "SegInfo = Parallel(n_jobs=os.cpu_count(),verbose=0)(\n",
    "    delayed(read_Export)(index,row.primary_label,row.filename) for index,row in tqdm(train_meta_final.iterrows(),total=train_meta_final.shape[0]))"
   ]
  },
  {
   "cell_type": "markdown",
   "metadata": {},
   "source": [
    "# Get metadata"
   ]
  },
  {
   "cell_type": "code",
   "execution_count": null,
   "metadata": {
    "execution": {
     "iopub.execute_input": "2022-04-11T12:35:49.401681Z",
     "iopub.status.busy": "2022-04-11T12:35:49.401247Z",
     "iopub.status.idle": "2022-04-11T12:35:49.486507Z",
     "shell.execute_reply": "2022-04-11T12:35:49.485406Z",
     "shell.execute_reply.started": "2022-04-11T12:35:49.401641Z"
    }
   },
   "outputs": [],
   "source": [
    "pd.merge(train_meta_final,pd.DataFrame(SegInfo,columns=['filename','segment_num']),how='outer',on='filename').to_csv('filter_metadata.csv')"
   ]
  },
  {
   "cell_type": "code",
   "execution_count": null,
   "metadata": {},
   "outputs": [],
   "source": [
    "from IPython.display import FileLink\n",
    "FileLink(r'train_np.tar.gz')"
   ]
  },
  {
   "cell_type": "code",
   "execution_count": null,
   "metadata": {},
   "outputs": [],
   "source": [
    "from IPython.display import FileLink\n",
    "FileLink(r'train_np.tar.gz')"
   ]
  }
 ],
 "metadata": {
  "kernelspec": {
   "display_name": "Python 3",
   "language": "python",
   "name": "python3"
  },
  "language_info": {
   "codemirror_mode": {
    "name": "ipython",
    "version": 3
   },
   "file_extension": ".py",
   "mimetype": "text/x-python",
   "name": "python",
   "nbconvert_exporter": "python",
   "pygments_lexer": "ipython3",
   "version": "3.7.4"
  }
 },
 "nbformat": 4,
 "nbformat_minor": 4
}
