{
 "cells": [
  {
   "cell_type": "code",
   "execution_count": 1,
   "id": "fd0c1505",
   "metadata": {
    "_cell_guid": "b1076dfc-b9ad-4769-8c92-a6c4dae69d19",
    "_uuid": "8f2839f25d086af736a60e9eeb907d3b93b6e0e5",
    "execution": {
     "iopub.execute_input": "2022-05-10T07:24:37.780679Z",
     "iopub.status.busy": "2022-05-10T07:24:37.779334Z",
     "iopub.status.idle": "2022-05-10T07:24:42.347729Z",
     "shell.execute_reply": "2022-05-10T07:24:42.346170Z"
    },
    "papermill": {
     "duration": 4.588546,
     "end_time": "2022-05-10T07:24:42.351894",
     "exception": false,
     "start_time": "2022-05-10T07:24:37.763348",
     "status": "completed"
    },
    "tags": []
   },
   "outputs": [],
   "source": [
    "import sys\n",
    "sys.path.append('../input/bird-tools')\n",
    "import noisereduce as nr\n",
    "import torch\n",
    "\n",
    "PATH_DATA = \"../input/birdclef-2022\"\n",
    "class config:\n",
    "    seed=2022\n",
    "    num_fold = 5\n",
    "    sample_rate= 32_000\n",
    "    sampleNum = 32_000*5\n",
    "    n_fft=1024\n",
    "    win_length = 1024\n",
    "    hop_length=512\n",
    "    n_mels=64\n",
    "    duration=5\n",
    "    num_classes = 152\n",
    "    learning_rate = 1e-3\n",
    "    device = 'cuda' if torch.cuda.is_available() else 'cpu'\n"
   ]
  },
  {
   "cell_type": "code",
   "execution_count": 2,
   "id": "d00c75de",
   "metadata": {
    "collapsed": true,
    "execution": {
     "iopub.execute_input": "2022-05-10T07:24:42.381678Z",
     "iopub.status.busy": "2022-05-10T07:24:42.380983Z",
     "iopub.status.idle": "2022-05-10T07:24:42.901063Z",
     "shell.execute_reply": "2022-05-10T07:24:42.900220Z"
    },
    "jupyter": {
     "outputs_hidden": true
    },
    "papermill": {
     "duration": 0.539915,
     "end_time": "2022-05-10T07:24:42.905721",
     "exception": false,
     "start_time": "2022-05-10T07:24:42.365806",
     "status": "completed"
    },
    "tags": []
   },
   "outputs": [
    {
     "data": {
      "text/plain": [
       "ResNet(\n",
       "  (conv1): Conv2d(1, 64, kernel_size=(7, 7), stride=(2, 2), padding=(3, 3), bias=False)\n",
       "  (bn1): BatchNorm2d(64, eps=1e-05, momentum=0.1, affine=True, track_running_stats=True)\n",
       "  (relu): ReLU(inplace=True)\n",
       "  (maxpool): MaxPool2d(kernel_size=3, stride=2, padding=1, dilation=1, ceil_mode=False)\n",
       "  (layer1): Sequential(\n",
       "    (0): BasicBlock(\n",
       "      (conv1): Conv2d(64, 64, kernel_size=(3, 3), stride=(1, 1), padding=(1, 1), bias=False)\n",
       "      (bn1): BatchNorm2d(64, eps=1e-05, momentum=0.1, affine=True, track_running_stats=True)\n",
       "      (relu): ReLU(inplace=True)\n",
       "      (conv2): Conv2d(64, 64, kernel_size=(3, 3), stride=(1, 1), padding=(1, 1), bias=False)\n",
       "      (bn2): BatchNorm2d(64, eps=1e-05, momentum=0.1, affine=True, track_running_stats=True)\n",
       "    )\n",
       "    (1): BasicBlock(\n",
       "      (conv1): Conv2d(64, 64, kernel_size=(3, 3), stride=(1, 1), padding=(1, 1), bias=False)\n",
       "      (bn1): BatchNorm2d(64, eps=1e-05, momentum=0.1, affine=True, track_running_stats=True)\n",
       "      (relu): ReLU(inplace=True)\n",
       "      (conv2): Conv2d(64, 64, kernel_size=(3, 3), stride=(1, 1), padding=(1, 1), bias=False)\n",
       "      (bn2): BatchNorm2d(64, eps=1e-05, momentum=0.1, affine=True, track_running_stats=True)\n",
       "    )\n",
       "  )\n",
       "  (layer2): Sequential(\n",
       "    (0): BasicBlock(\n",
       "      (conv1): Conv2d(64, 128, kernel_size=(3, 3), stride=(2, 2), padding=(1, 1), bias=False)\n",
       "      (bn1): BatchNorm2d(128, eps=1e-05, momentum=0.1, affine=True, track_running_stats=True)\n",
       "      (relu): ReLU(inplace=True)\n",
       "      (conv2): Conv2d(128, 128, kernel_size=(3, 3), stride=(1, 1), padding=(1, 1), bias=False)\n",
       "      (bn2): BatchNorm2d(128, eps=1e-05, momentum=0.1, affine=True, track_running_stats=True)\n",
       "      (downsample): Sequential(\n",
       "        (0): Conv2d(64, 128, kernel_size=(1, 1), stride=(2, 2), bias=False)\n",
       "        (1): BatchNorm2d(128, eps=1e-05, momentum=0.1, affine=True, track_running_stats=True)\n",
       "      )\n",
       "    )\n",
       "    (1): BasicBlock(\n",
       "      (conv1): Conv2d(128, 128, kernel_size=(3, 3), stride=(1, 1), padding=(1, 1), bias=False)\n",
       "      (bn1): BatchNorm2d(128, eps=1e-05, momentum=0.1, affine=True, track_running_stats=True)\n",
       "      (relu): ReLU(inplace=True)\n",
       "      (conv2): Conv2d(128, 128, kernel_size=(3, 3), stride=(1, 1), padding=(1, 1), bias=False)\n",
       "      (bn2): BatchNorm2d(128, eps=1e-05, momentum=0.1, affine=True, track_running_stats=True)\n",
       "    )\n",
       "  )\n",
       "  (layer3): Sequential(\n",
       "    (0): BasicBlock(\n",
       "      (conv1): Conv2d(128, 256, kernel_size=(3, 3), stride=(2, 2), padding=(1, 1), bias=False)\n",
       "      (bn1): BatchNorm2d(256, eps=1e-05, momentum=0.1, affine=True, track_running_stats=True)\n",
       "      (relu): ReLU(inplace=True)\n",
       "      (conv2): Conv2d(256, 256, kernel_size=(3, 3), stride=(1, 1), padding=(1, 1), bias=False)\n",
       "      (bn2): BatchNorm2d(256, eps=1e-05, momentum=0.1, affine=True, track_running_stats=True)\n",
       "      (downsample): Sequential(\n",
       "        (0): Conv2d(128, 256, kernel_size=(1, 1), stride=(2, 2), bias=False)\n",
       "        (1): BatchNorm2d(256, eps=1e-05, momentum=0.1, affine=True, track_running_stats=True)\n",
       "      )\n",
       "    )\n",
       "    (1): BasicBlock(\n",
       "      (conv1): Conv2d(256, 256, kernel_size=(3, 3), stride=(1, 1), padding=(1, 1), bias=False)\n",
       "      (bn1): BatchNorm2d(256, eps=1e-05, momentum=0.1, affine=True, track_running_stats=True)\n",
       "      (relu): ReLU(inplace=True)\n",
       "      (conv2): Conv2d(256, 256, kernel_size=(3, 3), stride=(1, 1), padding=(1, 1), bias=False)\n",
       "      (bn2): BatchNorm2d(256, eps=1e-05, momentum=0.1, affine=True, track_running_stats=True)\n",
       "    )\n",
       "  )\n",
       "  (layer4): Sequential(\n",
       "    (0): BasicBlock(\n",
       "      (conv1): Conv2d(256, 512, kernel_size=(3, 3), stride=(2, 2), padding=(1, 1), bias=False)\n",
       "      (bn1): BatchNorm2d(512, eps=1e-05, momentum=0.1, affine=True, track_running_stats=True)\n",
       "      (relu): ReLU(inplace=True)\n",
       "      (conv2): Conv2d(512, 512, kernel_size=(3, 3), stride=(1, 1), padding=(1, 1), bias=False)\n",
       "      (bn2): BatchNorm2d(512, eps=1e-05, momentum=0.1, affine=True, track_running_stats=True)\n",
       "      (downsample): Sequential(\n",
       "        (0): Conv2d(256, 512, kernel_size=(1, 1), stride=(2, 2), bias=False)\n",
       "        (1): BatchNorm2d(512, eps=1e-05, momentum=0.1, affine=True, track_running_stats=True)\n",
       "      )\n",
       "    )\n",
       "    (1): BasicBlock(\n",
       "      (conv1): Conv2d(512, 512, kernel_size=(3, 3), stride=(1, 1), padding=(1, 1), bias=False)\n",
       "      (bn1): BatchNorm2d(512, eps=1e-05, momentum=0.1, affine=True, track_running_stats=True)\n",
       "      (relu): ReLU(inplace=True)\n",
       "      (conv2): Conv2d(512, 512, kernel_size=(3, 3), stride=(1, 1), padding=(1, 1), bias=False)\n",
       "      (bn2): BatchNorm2d(512, eps=1e-05, momentum=0.1, affine=True, track_running_stats=True)\n",
       "    )\n",
       "  )\n",
       "  (avgpool): AdaptiveAvgPool2d(output_size=(1, 1))\n",
       "  (fc): Linear(in_features=512, out_features=22, bias=True)\n",
       ")"
      ]
     },
     "execution_count": 2,
     "metadata": {},
     "output_type": "execute_result"
    }
   ],
   "source": [
    "import torchvision,torch\n",
    "import torch.nn as nn\n",
    "model = torchvision.models.resnet18(num_classes=22)\n",
    "model.conv1 = nn.Conv2d(1, 64, kernel_size=7, stride=2, padding=3,bias=False)\n",
    "model"
   ]
  },
  {
   "cell_type": "code",
   "execution_count": 3,
   "id": "2d4c7ddb",
   "metadata": {
    "execution": {
     "iopub.execute_input": "2022-05-10T07:24:42.940851Z",
     "iopub.status.busy": "2022-05-10T07:24:42.939261Z",
     "iopub.status.idle": "2022-05-10T07:24:43.710571Z",
     "shell.execute_reply": "2022-05-10T07:24:43.709407Z"
    },
    "papermill": {
     "duration": 0.789586,
     "end_time": "2022-05-10T07:24:43.713692",
     "exception": false,
     "start_time": "2022-05-10T07:24:42.924106",
     "status": "completed"
    },
    "tags": []
   },
   "outputs": [
    {
     "name": "stdout",
     "output_type": "stream",
     "text": [
      "ResNet(\n",
      "  (conv1): Conv2d(1, 64, kernel_size=(7, 7), stride=(2, 2), padding=(3, 3), bias=False)\n",
      "  (bn1): BatchNorm2d(64, eps=1e-05, momentum=0.1, affine=True, track_running_stats=True)\n",
      "  (relu): ReLU(inplace=True)\n",
      "  (maxpool): MaxPool2d(kernel_size=3, stride=2, padding=1, dilation=1, ceil_mode=False)\n",
      "  (layer1): Sequential(\n",
      "    (0): BasicBlock(\n",
      "      (conv1): Conv2d(64, 64, kernel_size=(3, 3), stride=(1, 1), padding=(1, 1), bias=False)\n",
      "      (bn1): BatchNorm2d(64, eps=1e-05, momentum=0.1, affine=True, track_running_stats=True)\n",
      "      (relu): ReLU(inplace=True)\n",
      "      (conv2): Conv2d(64, 64, kernel_size=(3, 3), stride=(1, 1), padding=(1, 1), bias=False)\n",
      "      (bn2): BatchNorm2d(64, eps=1e-05, momentum=0.1, affine=True, track_running_stats=True)\n",
      "    )\n",
      "    (1): BasicBlock(\n",
      "      (conv1): Conv2d(64, 64, kernel_size=(3, 3), stride=(1, 1), padding=(1, 1), bias=False)\n",
      "      (bn1): BatchNorm2d(64, eps=1e-05, momentum=0.1, affine=True, track_running_stats=True)\n",
      "      (relu): ReLU(inplace=True)\n",
      "      (conv2): Conv2d(64, 64, kernel_size=(3, 3), stride=(1, 1), padding=(1, 1), bias=False)\n",
      "      (bn2): BatchNorm2d(64, eps=1e-05, momentum=0.1, affine=True, track_running_stats=True)\n",
      "    )\n",
      "  )\n",
      "  (layer2): Sequential(\n",
      "    (0): BasicBlock(\n",
      "      (conv1): Conv2d(64, 128, kernel_size=(3, 3), stride=(2, 2), padding=(1, 1), bias=False)\n",
      "      (bn1): BatchNorm2d(128, eps=1e-05, momentum=0.1, affine=True, track_running_stats=True)\n",
      "      (relu): ReLU(inplace=True)\n",
      "      (conv2): Conv2d(128, 128, kernel_size=(3, 3), stride=(1, 1), padding=(1, 1), bias=False)\n",
      "      (bn2): BatchNorm2d(128, eps=1e-05, momentum=0.1, affine=True, track_running_stats=True)\n",
      "      (downsample): Sequential(\n",
      "        (0): Conv2d(64, 128, kernel_size=(1, 1), stride=(2, 2), bias=False)\n",
      "        (1): BatchNorm2d(128, eps=1e-05, momentum=0.1, affine=True, track_running_stats=True)\n",
      "      )\n",
      "    )\n",
      "    (1): BasicBlock(\n",
      "      (conv1): Conv2d(128, 128, kernel_size=(3, 3), stride=(1, 1), padding=(1, 1), bias=False)\n",
      "      (bn1): BatchNorm2d(128, eps=1e-05, momentum=0.1, affine=True, track_running_stats=True)\n",
      "      (relu): ReLU(inplace=True)\n",
      "      (conv2): Conv2d(128, 128, kernel_size=(3, 3), stride=(1, 1), padding=(1, 1), bias=False)\n",
      "      (bn2): BatchNorm2d(128, eps=1e-05, momentum=0.1, affine=True, track_running_stats=True)\n",
      "    )\n",
      "  )\n",
      "  (layer3): Sequential(\n",
      "    (0): BasicBlock(\n",
      "      (conv1): Conv2d(128, 256, kernel_size=(3, 3), stride=(2, 2), padding=(1, 1), bias=False)\n",
      "      (bn1): BatchNorm2d(256, eps=1e-05, momentum=0.1, affine=True, track_running_stats=True)\n",
      "      (relu): ReLU(inplace=True)\n",
      "      (conv2): Conv2d(256, 256, kernel_size=(3, 3), stride=(1, 1), padding=(1, 1), bias=False)\n",
      "      (bn2): BatchNorm2d(256, eps=1e-05, momentum=0.1, affine=True, track_running_stats=True)\n",
      "      (downsample): Sequential(\n",
      "        (0): Conv2d(128, 256, kernel_size=(1, 1), stride=(2, 2), bias=False)\n",
      "        (1): BatchNorm2d(256, eps=1e-05, momentum=0.1, affine=True, track_running_stats=True)\n",
      "      )\n",
      "    )\n",
      "    (1): BasicBlock(\n",
      "      (conv1): Conv2d(256, 256, kernel_size=(3, 3), stride=(1, 1), padding=(1, 1), bias=False)\n",
      "      (bn1): BatchNorm2d(256, eps=1e-05, momentum=0.1, affine=True, track_running_stats=True)\n",
      "      (relu): ReLU(inplace=True)\n",
      "      (conv2): Conv2d(256, 256, kernel_size=(3, 3), stride=(1, 1), padding=(1, 1), bias=False)\n",
      "      (bn2): BatchNorm2d(256, eps=1e-05, momentum=0.1, affine=True, track_running_stats=True)\n",
      "    )\n",
      "  )\n",
      "  (layer4): Sequential(\n",
      "    (0): BasicBlock(\n",
      "      (conv1): Conv2d(256, 512, kernel_size=(3, 3), stride=(2, 2), padding=(1, 1), bias=False)\n",
      "      (bn1): BatchNorm2d(512, eps=1e-05, momentum=0.1, affine=True, track_running_stats=True)\n",
      "      (relu): ReLU(inplace=True)\n",
      "      (conv2): Conv2d(512, 512, kernel_size=(3, 3), stride=(1, 1), padding=(1, 1), bias=False)\n",
      "      (bn2): BatchNorm2d(512, eps=1e-05, momentum=0.1, affine=True, track_running_stats=True)\n",
      "      (downsample): Sequential(\n",
      "        (0): Conv2d(256, 512, kernel_size=(1, 1), stride=(2, 2), bias=False)\n",
      "        (1): BatchNorm2d(512, eps=1e-05, momentum=0.1, affine=True, track_running_stats=True)\n",
      "      )\n",
      "    )\n",
      "    (1): BasicBlock(\n",
      "      (conv1): Conv2d(512, 512, kernel_size=(3, 3), stride=(1, 1), padding=(1, 1), bias=False)\n",
      "      (bn1): BatchNorm2d(512, eps=1e-05, momentum=0.1, affine=True, track_running_stats=True)\n",
      "      (relu): ReLU(inplace=True)\n",
      "      (conv2): Conv2d(512, 512, kernel_size=(3, 3), stride=(1, 1), padding=(1, 1), bias=False)\n",
      "      (bn2): BatchNorm2d(512, eps=1e-05, momentum=0.1, affine=True, track_running_stats=True)\n",
      "    )\n",
      "  )\n",
      "  (avgpool): AdaptiveAvgPool2d(output_size=(1, 1))\n",
      "  (fc): Linear(in_features=512, out_features=22, bias=True)\n",
      ")\n"
     ]
    }
   ],
   "source": [
    "import os\n",
    "\n",
    "PATH_Model = \"../input/rennet18\"\n",
    "\n",
    "model_path = os.path.join(PATH_Model, \"model_20.pt\")\n",
    "model.load_state_dict(torch.load(model_path,map_location='cpu'))\n",
    "model = model.to(config.device)\n",
    "model.eval()\n",
    "print(model)"
   ]
  },
  {
   "cell_type": "code",
   "execution_count": 4,
   "id": "9fd13ce1",
   "metadata": {
    "execution": {
     "iopub.execute_input": "2022-05-10T07:24:43.744197Z",
     "iopub.status.busy": "2022-05-10T07:24:43.743864Z",
     "iopub.status.idle": "2022-05-10T07:24:43.911751Z",
     "shell.execute_reply": "2022-05-10T07:24:43.910493Z"
    },
    "papermill": {
     "duration": 0.186866,
     "end_time": "2022-05-10T07:24:43.915349",
     "exception": false,
     "start_time": "2022-05-10T07:24:43.728483",
     "status": "completed"
    },
    "tags": []
   },
   "outputs": [
    {
     "name": "stderr",
     "output_type": "stream",
     "text": [
      "/opt/conda/lib/python3.7/site-packages/torchaudio/functional/functional.py:433: UserWarning: At least one mel filterbank has all zero values. The value for `n_mels` (128) may be set too high. Or, the value for `n_freqs` (201) may be set too low.\n",
      "  \"At least one mel filterbank has all zero values. \"\n"
     ]
    }
   ],
   "source": [
    "import noisereduce as nr\n",
    "import torchaudio\n",
    "# STFT\n",
    "device = \"cpu\"\n",
    "transform = torchaudio.transforms.MFCC(\n",
    "    sample_rate = 32000, \n",
    "    n_mfcc = 128, \n",
    "    dct_type = 2, \n",
    "    norm = 'ortho', \n",
    "    log_mels = False, \n",
    ").to(device)\n",
    "\n",
    "@torch.no_grad()\n",
    "def create_spectrogram(fname,reduce_noise = False,channel = 0):\n",
    "    waveform, sample_rate = torchaudio.load(fname)\n",
    "       \n",
    "    # Change singal to mono\n",
    "    if waveform.shape[0] > 1:\n",
    "        waveform = torch.mean(waveform, axis=0, keepdim=True)\n",
    "        \n",
    "    # Reduce noise\n",
    "    if reduce_noise:\n",
    "        waveform = torch.tensor(nr.reduce_noise(\n",
    "            y=waveform,\n",
    "            sr=sample_rate,\n",
    "            use_tqdm=True,\n",
    "            n_jobs=3,\n",
    "        ))\n",
    "    step = int(5 * sample_rate)\n",
    "    lenSamples = waveform.size()[-1]\n",
    "    if (lenSamples%step) > (step*0.6):\n",
    "        waveform = torch.nn.functional.pad(waveform, (0,step-lenSamples%step), mode='constant', value=0.0)\n",
    "    \n",
    "\n",
    "    frames = []\n",
    "    for i in range(waveform.size()[-1]//step):\n",
    "        begin = i * step\n",
    "#         print(output_path)\n",
    "        frame = waveform[:,begin:begin + step]\n",
    "        frames.append(frame)\n",
    "    return transform(torch.stack(frames)) "
   ]
  },
  {
   "cell_type": "code",
   "execution_count": 5,
   "id": "2c716153",
   "metadata": {
    "execution": {
     "iopub.execute_input": "2022-05-10T07:24:43.946759Z",
     "iopub.status.busy": "2022-05-10T07:24:43.946414Z",
     "iopub.status.idle": "2022-05-10T07:24:44.062570Z",
     "shell.execute_reply": "2022-05-10T07:24:44.061839Z"
    },
    "papermill": {
     "duration": 0.134902,
     "end_time": "2022-05-10T07:24:44.065267",
     "exception": false,
     "start_time": "2022-05-10T07:24:43.930365",
     "status": "completed"
    },
    "tags": []
   },
   "outputs": [],
   "source": [
    "from sklearn.preprocessing import LabelEncoder\n",
    "import numpy as np\n",
    "import pandas as pd\n",
    "df = pd.read_csv('../input/birdclef-2022/train_metadata.csv')"
   ]
  },
  {
   "cell_type": "code",
   "execution_count": 6,
   "id": "45f2471a",
   "metadata": {
    "execution": {
     "iopub.execute_input": "2022-05-10T07:24:44.096114Z",
     "iopub.status.busy": "2022-05-10T07:24:44.095776Z",
     "iopub.status.idle": "2022-05-10T07:24:44.111639Z",
     "shell.execute_reply": "2022-05-10T07:24:44.110966Z"
    },
    "papermill": {
     "duration": 0.03385,
     "end_time": "2022-05-10T07:24:44.113708",
     "exception": false,
     "start_time": "2022-05-10T07:24:44.079858",
     "status": "completed"
    },
    "tags": []
   },
   "outputs": [
    {
     "data": {
      "text/plain": [
       "LabelEncoder()"
      ]
     },
     "execution_count": 6,
     "metadata": {},
     "output_type": "execute_result"
    }
   ],
   "source": [
    "encoderList = np.load(PATH_Model+'/encoder_list.npy',allow_pickle=True)\n",
    "encoder = LabelEncoder()\n",
    "encoder.fit(encoderList)\n",
    "# encoder.classes_"
   ]
  },
  {
   "cell_type": "code",
   "execution_count": 7,
   "id": "13d11c69",
   "metadata": {
    "execution": {
     "iopub.execute_input": "2022-05-10T07:24:44.145047Z",
     "iopub.status.busy": "2022-05-10T07:24:44.144484Z",
     "iopub.status.idle": "2022-05-10T07:24:44.154943Z",
     "shell.execute_reply": "2022-05-10T07:24:44.153849Z"
    },
    "papermill": {
     "duration": 0.029207,
     "end_time": "2022-05-10T07:24:44.157663",
     "exception": false,
     "start_time": "2022-05-10T07:24:44.128456",
     "status": "completed"
    },
    "tags": []
   },
   "outputs": [
    {
     "name": "stdout",
     "output_type": "stream",
     "text": [
      "['akiapo', 'aniani', 'apapan', 'barpet', 'crehon', 'elepai', 'ercfra', 'hawama', 'hawcre', 'hawgoo', 'hawhaw', 'hawpet1', 'houfin', 'iiwi', 'jabwar', 'maupar', 'omao', 'puaioh', 'skylar', 'warwhe1', 'yefcan']\n",
      "[ 0  1  2  3  4  5  6  7  8  9 10 11 12 13 14 15 16 18 19 20 21]\n"
     ]
    }
   ],
   "source": [
    "import json\n",
    "\n",
    "with open(os.path.join(PATH_DATA, \"scored_birds.json\")) as fp:\n",
    "    scored_birds = json.load(fp)\n",
    "\n",
    "print(scored_birds)\n",
    "print(encoder.transform(scored_birds))"
   ]
  },
  {
   "cell_type": "code",
   "execution_count": 8,
   "id": "d4020041",
   "metadata": {
    "execution": {
     "iopub.execute_input": "2022-05-10T07:24:44.190258Z",
     "iopub.status.busy": "2022-05-10T07:24:44.189961Z",
     "iopub.status.idle": "2022-05-10T07:24:49.399042Z",
     "shell.execute_reply": "2022-05-10T07:24:49.397750Z"
    },
    "papermill": {
     "duration": 5.228574,
     "end_time": "2022-05-10T07:24:49.401743",
     "exception": false,
     "start_time": "2022-05-10T07:24:44.173169",
     "status": "completed"
    },
    "tags": []
   },
   "outputs": [],
   "source": [
    "import glob\n",
    "import math\n",
    "\n",
    "TestPathAudio = glob.glob(\"/kaggle/input/birdclef-2022/test_soundscapes/*.ogg\")\n",
    "threshold = 1/config.num_classes\n",
    "outputBirds = list(zip(scored_birds,encoder.transform(scored_birds)))\n",
    "\n",
    "submission = []\n",
    "for path_audio in TestPathAudio:\n",
    "    filename = os.path.basename(path_audio).replace('.ogg','')\n",
    "\n",
    "    spec = create_spectrogram(path_audio, reduce_noise=True).to(config.device)\n",
    "    outputs = model(spec)\n",
    "    outputs = torch.nn.Softmax(dim=1)(outputs)\n",
    "    \n",
    "    for i in range(len(outputs)):\n",
    "        for bird,pos in outputBirds:\n",
    "            submission.append({\n",
    "                \"row_id\": filename + '_'+bird +'_' + str((i+1)*5),\n",
    "                \"target\": outputs[i,pos].item() > threshold,\n",
    "            })"
   ]
  },
  {
   "cell_type": "code",
   "execution_count": 9,
   "id": "a279ff5f",
   "metadata": {
    "execution": {
     "iopub.execute_input": "2022-05-10T07:24:49.434188Z",
     "iopub.status.busy": "2022-05-10T07:24:49.432964Z",
     "iopub.status.idle": "2022-05-10T07:24:49.452363Z",
     "shell.execute_reply": "2022-05-10T07:24:49.451392Z"
    },
    "papermill": {
     "duration": 0.038163,
     "end_time": "2022-05-10T07:24:49.454643",
     "exception": false,
     "start_time": "2022-05-10T07:24:49.416480",
     "status": "completed"
    },
    "tags": []
   },
   "outputs": [],
   "source": [
    "df_submission = pd.DataFrame(submission).set_index(\"row_id\")\n",
    "df_submission.to_csv(\"submission.csv\")"
   ]
  },
  {
   "cell_type": "code",
   "execution_count": 10,
   "id": "c3c7bbee",
   "metadata": {
    "execution": {
     "iopub.execute_input": "2022-05-10T07:24:49.488271Z",
     "iopub.status.busy": "2022-05-10T07:24:49.486988Z",
     "iopub.status.idle": "2022-05-10T07:24:49.505345Z",
     "shell.execute_reply": "2022-05-10T07:24:49.504460Z"
    },
    "papermill": {
     "duration": 0.03927,
     "end_time": "2022-05-10T07:24:49.508444",
     "exception": false,
     "start_time": "2022-05-10T07:24:49.469174",
     "status": "completed"
    },
    "tags": []
   },
   "outputs": [
    {
     "data": {
      "text/html": [
       "<div>\n",
       "<style scoped>\n",
       "    .dataframe tbody tr th:only-of-type {\n",
       "        vertical-align: middle;\n",
       "    }\n",
       "\n",
       "    .dataframe tbody tr th {\n",
       "        vertical-align: top;\n",
       "    }\n",
       "\n",
       "    .dataframe thead th {\n",
       "        text-align: right;\n",
       "    }\n",
       "</style>\n",
       "<table border=\"1\" class=\"dataframe\">\n",
       "  <thead>\n",
       "    <tr style=\"text-align: right;\">\n",
       "      <th></th>\n",
       "      <th>target</th>\n",
       "    </tr>\n",
       "    <tr>\n",
       "      <th>row_id</th>\n",
       "      <th></th>\n",
       "    </tr>\n",
       "  </thead>\n",
       "  <tbody>\n",
       "    <tr>\n",
       "      <th>soundscape_453028782_akiapo_5</th>\n",
       "      <td>False</td>\n",
       "    </tr>\n",
       "    <tr>\n",
       "      <th>soundscape_453028782_aniani_5</th>\n",
       "      <td>False</td>\n",
       "    </tr>\n",
       "    <tr>\n",
       "      <th>soundscape_453028782_apapan_5</th>\n",
       "      <td>True</td>\n",
       "    </tr>\n",
       "    <tr>\n",
       "      <th>soundscape_453028782_barpet_5</th>\n",
       "      <td>False</td>\n",
       "    </tr>\n",
       "    <tr>\n",
       "      <th>soundscape_453028782_crehon_5</th>\n",
       "      <td>False</td>\n",
       "    </tr>\n",
       "    <tr>\n",
       "      <th>...</th>\n",
       "      <td>...</td>\n",
       "    </tr>\n",
       "    <tr>\n",
       "      <th>soundscape_453028782_omao_60</th>\n",
       "      <td>True</td>\n",
       "    </tr>\n",
       "    <tr>\n",
       "      <th>soundscape_453028782_puaioh_60</th>\n",
       "      <td>True</td>\n",
       "    </tr>\n",
       "    <tr>\n",
       "      <th>soundscape_453028782_skylar_60</th>\n",
       "      <td>False</td>\n",
       "    </tr>\n",
       "    <tr>\n",
       "      <th>soundscape_453028782_warwhe1_60</th>\n",
       "      <td>True</td>\n",
       "    </tr>\n",
       "    <tr>\n",
       "      <th>soundscape_453028782_yefcan_60</th>\n",
       "      <td>True</td>\n",
       "    </tr>\n",
       "  </tbody>\n",
       "</table>\n",
       "<p>252 rows × 1 columns</p>\n",
       "</div>"
      ],
      "text/plain": [
       "                                 target\n",
       "row_id                                 \n",
       "soundscape_453028782_akiapo_5     False\n",
       "soundscape_453028782_aniani_5     False\n",
       "soundscape_453028782_apapan_5      True\n",
       "soundscape_453028782_barpet_5     False\n",
       "soundscape_453028782_crehon_5     False\n",
       "...                                 ...\n",
       "soundscape_453028782_omao_60       True\n",
       "soundscape_453028782_puaioh_60     True\n",
       "soundscape_453028782_skylar_60    False\n",
       "soundscape_453028782_warwhe1_60    True\n",
       "soundscape_453028782_yefcan_60     True\n",
       "\n",
       "[252 rows x 1 columns]"
      ]
     },
     "execution_count": 10,
     "metadata": {},
     "output_type": "execute_result"
    }
   ],
   "source": [
    "df_submission"
   ]
  },
  {
   "cell_type": "code",
   "execution_count": null,
   "id": "35fd3736",
   "metadata": {
    "papermill": {
     "duration": 0.015098,
     "end_time": "2022-05-10T07:24:49.539081",
     "exception": false,
     "start_time": "2022-05-10T07:24:49.523983",
     "status": "completed"
    },
    "tags": []
   },
   "outputs": [],
   "source": []
  }
 ],
 "metadata": {
  "kernelspec": {
   "display_name": "Python 3",
   "language": "python",
   "name": "python3"
  },
  "language_info": {
   "codemirror_mode": {
    "name": "ipython",
    "version": 3
   },
   "file_extension": ".py",
   "mimetype": "text/x-python",
   "name": "python",
   "nbconvert_exporter": "python",
   "pygments_lexer": "ipython3",
   "version": "3.7.12"
  },
  "papermill": {
   "default_parameters": {},
   "duration": 25.682461,
   "end_time": "2022-05-10T07:24:52.176379",
   "environment_variables": {},
   "exception": null,
   "input_path": "__notebook__.ipynb",
   "output_path": "__notebook__.ipynb",
   "parameters": {},
   "start_time": "2022-05-10T07:24:26.493918",
   "version": "2.3.4"
  }
 },
 "nbformat": 4,
 "nbformat_minor": 5
}
